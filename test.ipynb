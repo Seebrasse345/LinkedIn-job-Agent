{
 "cells": [
  {
   "cell_type": "code",
   "execution_count": 1,
   "metadata": {},
   "outputs": [
    {
     "name": "stdout",
     "output_type": "stream",
     "text": [
      "Requirement already satisfied: playwright in c:\\users\\seebr\\appdata\\local\\programs\\python\\python310\\lib\\site-packages (1.46.0)\n",
      "Requirement already satisfied: greenlet==3.0.3 in c:\\users\\seebr\\appdata\\local\\programs\\python\\python310\\lib\\site-packages (from playwright) (3.0.3)\n",
      "Requirement already satisfied: pyee==11.1.0 in c:\\users\\seebr\\appdata\\local\\programs\\python\\python310\\lib\\site-packages (from playwright) (11.1.0)\n",
      "Requirement already satisfied: typing-extensions in c:\\users\\seebr\\appdata\\local\\programs\\python\\python310\\lib\\site-packages (from pyee==11.1.0->playwright) (4.11.0)\n",
      "Note: you may need to restart the kernel to use updated packages.\n"
     ]
    },
    {
     "name": "stderr",
     "output_type": "stream",
     "text": [
      "UsageError: Line magic function `%playwright` not found.\n"
     ]
    }
   ],
   "source": [
    "%pip install playwright\n"
   ]
  },
  {
   "cell_type": "code",
   "execution_count": 11,
   "metadata": {},
   "outputs": [],
   "source": [
    "from selenium import webdriver\n",
    "from selenium.webdriver.common.by import By\n",
    "import os\n",
    "\n",
    "# Set up the WebDriver using the local chromedriver.exe\n",
    "driver_path = os.path.join(os.getcwd(), 'chromedriver.exe')\n",
    "driver = webdriver.Chrome()\n",
    "\n",
    "# Open LinkedIn\n",
    "driver.get('https://www.linkedin.com')"
   ]
  },
  {
   "cell_type": "code",
   "execution_count": null,
   "metadata": {},
   "outputs": [],
   "source": []
  }
 ],
 "metadata": {
  "kernelspec": {
   "display_name": "Python 3",
   "language": "python",
   "name": "python3"
  },
  "language_info": {
   "codemirror_mode": {
    "name": "ipython",
    "version": 3
   },
   "file_extension": ".py",
   "mimetype": "text/x-python",
   "name": "python",
   "nbconvert_exporter": "python",
   "pygments_lexer": "ipython3",
   "version": "3.10.0"
  }
 },
 "nbformat": 4,
 "nbformat_minor": 2
}
